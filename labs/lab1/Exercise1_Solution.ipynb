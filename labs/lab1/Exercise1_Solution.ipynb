{
 "cells": [
  {
   "cell_type": "markdown",
   "metadata": {},
   "source": [
    "# Problem 1 - Kaggle Dataset\n",
    "---\n",
    "### 📚 Essential Libraries (💙)\n",
    "\n",
    "Let us begin by importing the essential Python Libraries.\n",
    "> NumPy : Library for Numeric Computations in Python\n",
    "> Pandas : Library for Data Acquisition and Preparation"
   ]
  },
  {
   "cell_type": "code",
   "execution_count": 1,
   "metadata": {},
   "outputs": [],
   "source": [
    "# Basic Libraries\n",
    "import numpy as np\n",
    "import pandas as pd"
   ]
  },
  {
   "cell_type": "markdown",
   "metadata": {},
   "source": [
    "### (a) ☁️ 🖼 Let's import our dataset and frame it "
   ]
  },
  {
   "cell_type": "code",
   "execution_count": 2,
   "metadata": {},
   "outputs": [
    {
     "data": {
      "text/html": [
       "<div>\n",
       "<style scoped>\n",
       "    .dataframe tbody tr th:only-of-type {\n",
       "        vertical-align: middle;\n",
       "    }\n",
       "\n",
       "    .dataframe tbody tr th {\n",
       "        vertical-align: top;\n",
       "    }\n",
       "\n",
       "    .dataframe thead th {\n",
       "        text-align: right;\n",
       "    }\n",
       "</style>\n",
       "<table border=\"1\" class=\"dataframe\">\n",
       "  <thead>\n",
       "    <tr style=\"text-align: right;\">\n",
       "      <th></th>\n",
       "      <th>Id</th>\n",
       "      <th>MSSubClass</th>\n",
       "      <th>MSZoning</th>\n",
       "      <th>LotFrontage</th>\n",
       "      <th>LotArea</th>\n",
       "      <th>Street</th>\n",
       "      <th>Alley</th>\n",
       "      <th>LotShape</th>\n",
       "      <th>LandContour</th>\n",
       "      <th>Utilities</th>\n",
       "      <th>...</th>\n",
       "      <th>PoolArea</th>\n",
       "      <th>PoolQC</th>\n",
       "      <th>Fence</th>\n",
       "      <th>MiscFeature</th>\n",
       "      <th>MiscVal</th>\n",
       "      <th>MoSold</th>\n",
       "      <th>YrSold</th>\n",
       "      <th>SaleType</th>\n",
       "      <th>SaleCondition</th>\n",
       "      <th>SalePrice</th>\n",
       "    </tr>\n",
       "  </thead>\n",
       "  <tbody>\n",
       "    <tr>\n",
       "      <th>0</th>\n",
       "      <td>1</td>\n",
       "      <td>60</td>\n",
       "      <td>RL</td>\n",
       "      <td>65.0</td>\n",
       "      <td>8450</td>\n",
       "      <td>Pave</td>\n",
       "      <td>NaN</td>\n",
       "      <td>Reg</td>\n",
       "      <td>Lvl</td>\n",
       "      <td>AllPub</td>\n",
       "      <td>...</td>\n",
       "      <td>0</td>\n",
       "      <td>NaN</td>\n",
       "      <td>NaN</td>\n",
       "      <td>NaN</td>\n",
       "      <td>0</td>\n",
       "      <td>2</td>\n",
       "      <td>2008</td>\n",
       "      <td>WD</td>\n",
       "      <td>Normal</td>\n",
       "      <td>208500</td>\n",
       "    </tr>\n",
       "    <tr>\n",
       "      <th>1</th>\n",
       "      <td>2</td>\n",
       "      <td>20</td>\n",
       "      <td>RL</td>\n",
       "      <td>80.0</td>\n",
       "      <td>9600</td>\n",
       "      <td>Pave</td>\n",
       "      <td>NaN</td>\n",
       "      <td>Reg</td>\n",
       "      <td>Lvl</td>\n",
       "      <td>AllPub</td>\n",
       "      <td>...</td>\n",
       "      <td>0</td>\n",
       "      <td>NaN</td>\n",
       "      <td>NaN</td>\n",
       "      <td>NaN</td>\n",
       "      <td>0</td>\n",
       "      <td>5</td>\n",
       "      <td>2007</td>\n",
       "      <td>WD</td>\n",
       "      <td>Normal</td>\n",
       "      <td>181500</td>\n",
       "    </tr>\n",
       "    <tr>\n",
       "      <th>2</th>\n",
       "      <td>3</td>\n",
       "      <td>60</td>\n",
       "      <td>RL</td>\n",
       "      <td>68.0</td>\n",
       "      <td>11250</td>\n",
       "      <td>Pave</td>\n",
       "      <td>NaN</td>\n",
       "      <td>IR1</td>\n",
       "      <td>Lvl</td>\n",
       "      <td>AllPub</td>\n",
       "      <td>...</td>\n",
       "      <td>0</td>\n",
       "      <td>NaN</td>\n",
       "      <td>NaN</td>\n",
       "      <td>NaN</td>\n",
       "      <td>0</td>\n",
       "      <td>9</td>\n",
       "      <td>2008</td>\n",
       "      <td>WD</td>\n",
       "      <td>Normal</td>\n",
       "      <td>223500</td>\n",
       "    </tr>\n",
       "    <tr>\n",
       "      <th>3</th>\n",
       "      <td>4</td>\n",
       "      <td>70</td>\n",
       "      <td>RL</td>\n",
       "      <td>60.0</td>\n",
       "      <td>9550</td>\n",
       "      <td>Pave</td>\n",
       "      <td>NaN</td>\n",
       "      <td>IR1</td>\n",
       "      <td>Lvl</td>\n",
       "      <td>AllPub</td>\n",
       "      <td>...</td>\n",
       "      <td>0</td>\n",
       "      <td>NaN</td>\n",
       "      <td>NaN</td>\n",
       "      <td>NaN</td>\n",
       "      <td>0</td>\n",
       "      <td>2</td>\n",
       "      <td>2006</td>\n",
       "      <td>WD</td>\n",
       "      <td>Abnorml</td>\n",
       "      <td>140000</td>\n",
       "    </tr>\n",
       "    <tr>\n",
       "      <th>4</th>\n",
       "      <td>5</td>\n",
       "      <td>60</td>\n",
       "      <td>RL</td>\n",
       "      <td>84.0</td>\n",
       "      <td>14260</td>\n",
       "      <td>Pave</td>\n",
       "      <td>NaN</td>\n",
       "      <td>IR1</td>\n",
       "      <td>Lvl</td>\n",
       "      <td>AllPub</td>\n",
       "      <td>...</td>\n",
       "      <td>0</td>\n",
       "      <td>NaN</td>\n",
       "      <td>NaN</td>\n",
       "      <td>NaN</td>\n",
       "      <td>0</td>\n",
       "      <td>12</td>\n",
       "      <td>2008</td>\n",
       "      <td>WD</td>\n",
       "      <td>Normal</td>\n",
       "      <td>250000</td>\n",
       "    </tr>\n",
       "  </tbody>\n",
       "</table>\n",
       "<p>5 rows × 81 columns</p>\n",
       "</div>"
      ],
      "text/plain": [
       "   Id  MSSubClass MSZoning  LotFrontage  LotArea Street Alley LotShape  \\\n",
       "0   1          60       RL         65.0     8450   Pave   NaN      Reg   \n",
       "1   2          20       RL         80.0     9600   Pave   NaN      Reg   \n",
       "2   3          60       RL         68.0    11250   Pave   NaN      IR1   \n",
       "3   4          70       RL         60.0     9550   Pave   NaN      IR1   \n",
       "4   5          60       RL         84.0    14260   Pave   NaN      IR1   \n",
       "\n",
       "  LandContour Utilities  ... PoolArea PoolQC Fence MiscFeature MiscVal MoSold  \\\n",
       "0         Lvl    AllPub  ...        0    NaN   NaN         NaN       0      2   \n",
       "1         Lvl    AllPub  ...        0    NaN   NaN         NaN       0      5   \n",
       "2         Lvl    AllPub  ...        0    NaN   NaN         NaN       0      9   \n",
       "3         Lvl    AllPub  ...        0    NaN   NaN         NaN       0      2   \n",
       "4         Lvl    AllPub  ...        0    NaN   NaN         NaN       0     12   \n",
       "\n",
       "  YrSold  SaleType  SaleCondition  SalePrice  \n",
       "0   2008        WD         Normal     208500  \n",
       "1   2007        WD         Normal     181500  \n",
       "2   2008        WD         Normal     223500  \n",
       "3   2006        WD        Abnorml     140000  \n",
       "4   2008        WD         Normal     250000  \n",
       "\n",
       "[5 rows x 81 columns]"
      ]
     },
     "execution_count": 2,
     "metadata": {},
     "output_type": "execute_result"
    }
   ],
   "source": [
    "house_prices_data = pd.read_csv('./train.csv', header = \"infer\")\n",
    "house_prices_data.head()"
   ]
  },
  {
   "cell_type": "code",
   "execution_count": 3,
   "metadata": {},
   "outputs": [],
   "source": [
    "# print(\"Data type : \", type(house_prices_data))\n",
    "# print(\"Data dimensions : \", house_prices_data.shape)\n"
   ]
  },
  {
   "cell_type": "markdown",
   "metadata": {},
   "source": [
    "### (b) 👀 What are our data observations?"
   ]
  },
  {
   "cell_type": "code",
   "execution_count": 4,
   "metadata": {},
   "outputs": [
    {
     "name": "stdout",
     "output_type": "stream",
     "text": [
      "✨ The data has: \n",
      " 1460 observations (rows) \n",
      " 81 variables (columns)\n"
     ]
    }
   ],
   "source": [
    "print(\"✨ The data has: \\n\", house_prices_data.shape[0], \"observations (rows) \\n\", house_prices_data.shape[1], \"variables (columns)\")"
   ]
  },
  {
   "cell_type": "markdown",
   "metadata": {},
   "source": [
    "### (c) 🔢 What are our data types?"
   ]
  },
  {
   "cell_type": "code",
   "execution_count": 5,
   "metadata": {},
   "outputs": [
    {
     "name": "stdout",
     "output_type": "stream",
     "text": [
      "✨ The datatypes present are:  Id                 int64\n",
      "MSSubClass         int64\n",
      "MSZoning          object\n",
      "LotFrontage      float64\n",
      "LotArea            int64\n",
      "                  ...   \n",
      "MoSold             int64\n",
      "YrSold             int64\n",
      "SaleType          object\n",
      "SaleCondition     object\n",
      "SalePrice          int64\n",
      "Length: 81, dtype: object\n"
     ]
    }
   ],
   "source": [
    "print(\"✨ The datatypes present are: \", house_prices_data.dtypes)"
   ]
  },
  {
   "cell_type": "markdown",
   "metadata": {},
   "source": [
    "### (d) ℹ️ What does the info button do?"
   ]
  },
  {
   "cell_type": "code",
   "execution_count": 6,
   "metadata": {},
   "outputs": [
    {
     "name": "stdout",
     "output_type": "stream",
     "text": [
      "✨ The .info() method returns the following:\n",
      "<class 'pandas.core.frame.DataFrame'>\n",
      "RangeIndex: 1460 entries, 0 to 1459\n",
      "Data columns (total 81 columns):\n",
      " #   Column         Non-Null Count  Dtype  \n",
      "---  ------         --------------  -----  \n",
      " 0   Id             1460 non-null   int64  \n",
      " 1   MSSubClass     1460 non-null   int64  \n",
      " 2   MSZoning       1460 non-null   object \n",
      " 3   LotFrontage    1201 non-null   float64\n",
      " 4   LotArea        1460 non-null   int64  \n",
      " 5   Street         1460 non-null   object \n",
      " 6   Alley          91 non-null     object \n",
      " 7   LotShape       1460 non-null   object \n",
      " 8   LandContour    1460 non-null   object \n",
      " 9   Utilities      1460 non-null   object \n",
      " 10  LotConfig      1460 non-null   object \n",
      " 11  LandSlope      1460 non-null   object \n",
      " 12  Neighborhood   1460 non-null   object \n",
      " 13  Condition1     1460 non-null   object \n",
      " 14  Condition2     1460 non-null   object \n",
      " 15  BldgType       1460 non-null   object \n",
      " 16  HouseStyle     1460 non-null   object \n",
      " 17  OverallQual    1460 non-null   int64  \n",
      " 18  OverallCond    1460 non-null   int64  \n",
      " 19  YearBuilt      1460 non-null   int64  \n",
      " 20  YearRemodAdd   1460 non-null   int64  \n",
      " 21  RoofStyle      1460 non-null   object \n",
      " 22  RoofMatl       1460 non-null   object \n",
      " 23  Exterior1st    1460 non-null   object \n",
      " 24  Exterior2nd    1460 non-null   object \n",
      " 25  MasVnrType     1452 non-null   object \n",
      " 26  MasVnrArea     1452 non-null   float64\n",
      " 27  ExterQual      1460 non-null   object \n",
      " 28  ExterCond      1460 non-null   object \n",
      " 29  Foundation     1460 non-null   object \n",
      " 30  BsmtQual       1423 non-null   object \n",
      " 31  BsmtCond       1423 non-null   object \n",
      " 32  BsmtExposure   1422 non-null   object \n",
      " 33  BsmtFinType1   1423 non-null   object \n",
      " 34  BsmtFinSF1     1460 non-null   int64  \n",
      " 35  BsmtFinType2   1422 non-null   object \n",
      " 36  BsmtFinSF2     1460 non-null   int64  \n",
      " 37  BsmtUnfSF      1460 non-null   int64  \n",
      " 38  TotalBsmtSF    1460 non-null   int64  \n",
      " 39  Heating        1460 non-null   object \n",
      " 40  HeatingQC      1460 non-null   object \n",
      " 41  CentralAir     1460 non-null   object \n",
      " 42  Electrical     1459 non-null   object \n",
      " 43  1stFlrSF       1460 non-null   int64  \n",
      " 44  2ndFlrSF       1460 non-null   int64  \n",
      " 45  LowQualFinSF   1460 non-null   int64  \n",
      " 46  GrLivArea      1460 non-null   int64  \n",
      " 47  BsmtFullBath   1460 non-null   int64  \n",
      " 48  BsmtHalfBath   1460 non-null   int64  \n",
      " 49  FullBath       1460 non-null   int64  \n",
      " 50  HalfBath       1460 non-null   int64  \n",
      " 51  BedroomAbvGr   1460 non-null   int64  \n",
      " 52  KitchenAbvGr   1460 non-null   int64  \n",
      " 53  KitchenQual    1460 non-null   object \n",
      " 54  TotRmsAbvGrd   1460 non-null   int64  \n",
      " 55  Functional     1460 non-null   object \n",
      " 56  Fireplaces     1460 non-null   int64  \n",
      " 57  FireplaceQu    770 non-null    object \n",
      " 58  GarageType     1379 non-null   object \n",
      " 59  GarageYrBlt    1379 non-null   float64\n",
      " 60  GarageFinish   1379 non-null   object \n",
      " 61  GarageCars     1460 non-null   int64  \n",
      " 62  GarageArea     1460 non-null   int64  \n",
      " 63  GarageQual     1379 non-null   object \n",
      " 64  GarageCond     1379 non-null   object \n",
      " 65  PavedDrive     1460 non-null   object \n",
      " 66  WoodDeckSF     1460 non-null   int64  \n",
      " 67  OpenPorchSF    1460 non-null   int64  \n",
      " 68  EnclosedPorch  1460 non-null   int64  \n",
      " 69  3SsnPorch      1460 non-null   int64  \n",
      " 70  ScreenPorch    1460 non-null   int64  \n",
      " 71  PoolArea       1460 non-null   int64  \n",
      " 72  PoolQC         7 non-null      object \n",
      " 73  Fence          281 non-null    object \n",
      " 74  MiscFeature    54 non-null     object \n",
      " 75  MiscVal        1460 non-null   int64  \n",
      " 76  MoSold         1460 non-null   int64  \n",
      " 77  YrSold         1460 non-null   int64  \n",
      " 78  SaleType       1460 non-null   object \n",
      " 79  SaleCondition  1460 non-null   object \n",
      " 80  SalePrice      1460 non-null   int64  \n",
      "dtypes: float64(3), int64(35), object(43)\n",
      "memory usage: 924.0+ KB\n",
      "None\n"
     ]
    }
   ],
   "source": [
    "print(\"✨ The .info() method returns the following:\")\n",
    "print(house_prices_data.info())"
   ]
  },
  {
   "cell_type": "markdown",
   "metadata": {},
   "source": [
    "### (e) 💬 What does the .describe() method do?"
   ]
  },
  {
   "cell_type": "code",
   "execution_count": 7,
   "metadata": {
    "scrolled": true
   },
   "outputs": [
    {
     "name": "stdout",
     "output_type": "stream",
     "text": [
      "✨ The .describe() method returns the following:\n",
      "                Id   MSSubClass  LotFrontage        LotArea  OverallQual  \\\n",
      "count  1460.000000  1460.000000  1201.000000    1460.000000  1460.000000   \n",
      "mean    730.500000    56.897260    70.049958   10516.828082     6.099315   \n",
      "std     421.610009    42.300571    24.284752    9981.264932     1.382997   \n",
      "min       1.000000    20.000000    21.000000    1300.000000     1.000000   \n",
      "25%     365.750000    20.000000    59.000000    7553.500000     5.000000   \n",
      "50%     730.500000    50.000000    69.000000    9478.500000     6.000000   \n",
      "75%    1095.250000    70.000000    80.000000   11601.500000     7.000000   \n",
      "max    1460.000000   190.000000   313.000000  215245.000000    10.000000   \n",
      "\n",
      "       OverallCond    YearBuilt  YearRemodAdd   MasVnrArea   BsmtFinSF1  ...  \\\n",
      "count  1460.000000  1460.000000   1460.000000  1452.000000  1460.000000  ...   \n",
      "mean      5.575342  1971.267808   1984.865753   103.685262   443.639726  ...   \n",
      "std       1.112799    30.202904     20.645407   181.066207   456.098091  ...   \n",
      "min       1.000000  1872.000000   1950.000000     0.000000     0.000000  ...   \n",
      "25%       5.000000  1954.000000   1967.000000     0.000000     0.000000  ...   \n",
      "50%       5.000000  1973.000000   1994.000000     0.000000   383.500000  ...   \n",
      "75%       6.000000  2000.000000   2004.000000   166.000000   712.250000  ...   \n",
      "max       9.000000  2010.000000   2010.000000  1600.000000  5644.000000  ...   \n",
      "\n",
      "        WoodDeckSF  OpenPorchSF  EnclosedPorch    3SsnPorch  ScreenPorch  \\\n",
      "count  1460.000000  1460.000000    1460.000000  1460.000000  1460.000000   \n",
      "mean     94.244521    46.660274      21.954110     3.409589    15.060959   \n",
      "std     125.338794    66.256028      61.119149    29.317331    55.757415   \n",
      "min       0.000000     0.000000       0.000000     0.000000     0.000000   \n",
      "25%       0.000000     0.000000       0.000000     0.000000     0.000000   \n",
      "50%       0.000000    25.000000       0.000000     0.000000     0.000000   \n",
      "75%     168.000000    68.000000       0.000000     0.000000     0.000000   \n",
      "max     857.000000   547.000000     552.000000   508.000000   480.000000   \n",
      "\n",
      "          PoolArea       MiscVal       MoSold       YrSold      SalePrice  \n",
      "count  1460.000000   1460.000000  1460.000000  1460.000000    1460.000000  \n",
      "mean      2.758904     43.489041     6.321918  2007.815753  180921.195890  \n",
      "std      40.177307    496.123024     2.703626     1.328095   79442.502883  \n",
      "min       0.000000      0.000000     1.000000  2006.000000   34900.000000  \n",
      "25%       0.000000      0.000000     5.000000  2007.000000  129975.000000  \n",
      "50%       0.000000      0.000000     6.000000  2008.000000  163000.000000  \n",
      "75%       0.000000      0.000000     8.000000  2009.000000  214000.000000  \n",
      "max     738.000000  15500.000000    12.000000  2010.000000  755000.000000  \n",
      "\n",
      "[8 rows x 38 columns]\n"
     ]
    }
   ],
   "source": [
    "print(\"✨ The .describe() method returns the following:\")\n",
    "print(house_prices_data.describe())"
   ]
  },
  {
   "cell_type": "markdown",
   "metadata": {},
   "source": [
    " ---------------"
   ]
  },
  {
   "cell_type": "markdown",
   "metadata": {},
   "source": [
    "# Problem 2 - Wikipedia Dataset"
   ]
  },
  {
   "cell_type": "markdown",
   "metadata": {},
   "source": [
    "Since we've already imported all required libraries previosly, we won't do that here ☺️"
   ]
  },
  {
   "cell_type": "markdown",
   "metadata": {},
   "source": [
    "### (a) ☁️ 🖼 Let's scrape the Wikipedia page for the medals table!"
   ]
  },
  {
   "cell_type": "code",
   "execution_count": 8,
   "metadata": {},
   "outputs": [],
   "source": [
    "scraped_html = pd.read_html(\"https://en.wikipedia.org/wiki/2016_Summer_Olympics_medal_table\")"
   ]
  },
  {
   "cell_type": "markdown",
   "metadata": {},
   "source": [
    "### (b) 🔢 How many tables are there present in the scraped webpage?"
   ]
  },
  {
   "cell_type": "code",
   "execution_count": 9,
   "metadata": {},
   "outputs": [
    {
     "name": "stdout",
     "output_type": "stream",
     "text": [
      "✨ There are  6 tables present in the scraped html page\n"
     ]
    }
   ],
   "source": [
    "print(\"✨ There are \", len(scraped_html), \"tables present in the scraped html page\")"
   ]
  },
  {
   "cell_type": "markdown",
   "metadata": {},
   "source": [
    "### 🔎 Which table in the list is the one we require?"
   ]
  },
  {
   "cell_type": "code",
   "execution_count": 10,
   "metadata": {},
   "outputs": [
    {
     "name": "stdout",
     "output_type": "stream",
     "text": [
      "cI'm just going to print everything and eyeball it lmao\n",
      "[                                                   0\n",
      "0                                Part of a series on\n",
      "1  2016 Summer Olympics Bid process (bid details)...,                 Rank                         NOC  Gold  Silver  Bronze  Total\n",
      "0                  1         United States (USA)    46      37      38    121\n",
      "1                  2         Great Britain (GBR)    27      23      17     67\n",
      "2                  3                 China (CHN)    26      18      26     70\n",
      "3                  4                Russia (RUS)    19      17      20     56\n",
      "4                  5               Germany (GER)    17      10      15     42\n",
      "..               ...                         ...   ...     ...     ...    ...\n",
      "82                78               Nigeria (NGR)     0       0       1      1\n",
      "83                78              Portugal (POR)     0       0       1      1\n",
      "84                78   Trinidad and Tobago (TTO)     0       0       1      1\n",
      "85                78  United Arab Emirates (UAE)     0       0       1      1\n",
      "86  Totals (86 NOCs)            Totals (86 NOCs)   307     307     359    973\n",
      "\n",
      "[87 rows x 6 columns],                                          Ruling date  \\\n",
      "0  List of official changes in medal standings (d...   \n",
      "1                                     18 August 2016   \n",
      "2                                     18 August 2016   \n",
      "3  List of official changes in medal standings (a...   \n",
      "4                                    8 December 2016   \n",
      "5                                    8 December 2016   \n",
      "6                                    8 December 2016   \n",
      "7                                    8 December 2016   \n",
      "8                                    30 January 2017   \n",
      "9                                    30 January 2017   \n",
      "\n",
      "                                         Sport/Event  \\\n",
      "0  List of official changes in medal standings (d...   \n",
      "1                           WeightliftingMen's 69 kg   \n",
      "2                           WeightliftingMen's 69 kg   \n",
      "3  List of official changes in medal standings (a...   \n",
      "4                           WeightliftingMen's 85 kg   \n",
      "5                           WeightliftingMen's 85 kg   \n",
      "6                              BoxingMen's flyweight   \n",
      "7                              BoxingMen's flyweight   \n",
      "8                      CanoeingMen's C-1 1000 metres   \n",
      "9                      CanoeingMen's C-1 1000 metres   \n",
      "\n",
      "                                       Athlete (NOC)  \\\n",
      "0  List of official changes in medal standings (d...   \n",
      "1                            Izzat Artykov (KGZ) DSQ   \n",
      "2                         Luis Javier Mosquera (COL)   \n",
      "3  List of official changes in medal standings (a...   \n",
      "4                        Gabriel Sîncrăian (ROM) DSQ   \n",
      "5                                 Denis Ulanov (KAZ)   \n",
      "6                             Misha Aloyan (RUS) DSQ   \n",
      "7                                   Yoel Finol (VEN)   \n",
      "8                       Serghei Tarnovschi (MDA) DSQ   \n",
      "9                               Ilia Shtokalov (RUS)   \n",
      "\n",
      "                                          Unnamed: 3  \\\n",
      "0  List of official changes in medal standings (d...   \n",
      "1                                                NaN   \n",
      "2                                                NaN   \n",
      "3  List of official changes in medal standings (a...   \n",
      "4                                                NaN   \n",
      "5                                                NaN   \n",
      "6                                                NaN   \n",
      "7                                                NaN   \n",
      "8                                                NaN   \n",
      "9                                                NaN   \n",
      "\n",
      "                                          Unnamed: 4  \\\n",
      "0  List of official changes in medal standings (d...   \n",
      "1                                                NaN   \n",
      "2                                                NaN   \n",
      "3  List of official changes in medal standings (a...   \n",
      "4                                                NaN   \n",
      "5                                                NaN   \n",
      "6                                                 −1   \n",
      "7                                                 +1   \n",
      "8                                                NaN   \n",
      "9                                                NaN   \n",
      "\n",
      "                                          Unnamed: 5  \\\n",
      "0  List of official changes in medal standings (d...   \n",
      "1                                                 −1   \n",
      "2                                                 +1   \n",
      "3  List of official changes in medal standings (a...   \n",
      "4                                                 −1   \n",
      "5                                                 +1   \n",
      "6                                                NaN   \n",
      "7                                                 −1   \n",
      "8                                                 −1   \n",
      "9                                                 +1   \n",
      "\n",
      "                                               Total  \\\n",
      "0  List of official changes in medal standings (d...   \n",
      "1                                                 −1   \n",
      "2                                                 +1   \n",
      "3  List of official changes in medal standings (a...   \n",
      "4                                                 −1   \n",
      "5                                                 +1   \n",
      "6                                                 −1   \n",
      "7                                                  0   \n",
      "8                                                 −1   \n",
      "9                                                 +1   \n",
      "\n",
      "                                             Comment  \\\n",
      "0  List of official changes in medal standings (d...   \n",
      "1  On 18 August 2016, Kyrgyz weightlifter Izzat A...   \n",
      "2  On 18 August 2016, Kyrgyz weightlifter Izzat A...   \n",
      "3  List of official changes in medal standings (a...   \n",
      "4  On 8 December 2016, the CAS disqualified weigh...   \n",
      "5  On 8 December 2016, the CAS disqualified weigh...   \n",
      "6  On 8 December 2016, the CAS disqualified weigh...   \n",
      "7  On 8 December 2016, the CAS disqualified weigh...   \n",
      "8  Serghei Tarnovschi of Moldova was stripped of ...   \n",
      "9  Serghei Tarnovschi of Moldova was stripped of ...   \n",
      "\n",
      "                                          Unnamed: 8  \n",
      "0  List of official changes in medal standings (d...  \n",
      "1                                                NaN  \n",
      "2                                                NaN  \n",
      "3  List of official changes in medal standings (a...  \n",
      "4                                                NaN  \n",
      "5                                                NaN  \n",
      "6                                                NaN  \n",
      "7                                                NaN  \n",
      "8                                                NaN  \n",
      "9                                                NaN  ,                        vteOlympic Games medal tables  \\\n",
      "0  Olympic medal All-time Olympic Games medal tab...   \n",
      "1                               Summer Olympic Games   \n",
      "2                               Winter Olympic Games   \n",
      "3  Lists of Olympic medalists List of stripped Ol...   \n",
      "\n",
      "                     vteOlympic Games medal tables.1  \n",
      "0  Olympic medal All-time Olympic Games medal tab...  \n",
      "1  1896 1900 1904 1908 1912 1920 1924 1928 1932 1...  \n",
      "2  1924 1928 1932 1936 1948 1952 1956 1960 1964 1...  \n",
      "3  Lists of Olympic medalists List of stripped Ol...  ,                vteEvents at the 2016 Summer Olympics  \\\n",
      "0  Archery Athletics Badminton Basketball men wom...   \n",
      "\n",
      "             vteEvents at the 2016 Summer Olympics.1  \n",
      "0  Archery Athletics Badminton Basketball men wom...  ,       vteSummer Olympics medal table leaders by year  \\\n",
      "0  .mw-parser-output .div-col{margin-top:0.3em;co...   \n",
      "\n",
      "    vteSummer Olympics medal table leaders by year.1  \n",
      "0  .mw-parser-output .div-col{margin-top:0.3em;co...  ]\n"
     ]
    }
   ],
   "source": [
    "print(\"cI'm just going to print everything and eyeball it lmao\")\n",
    "print(scraped_html)"
   ]
  },
  {
   "cell_type": "markdown",
   "metadata": {},
   "source": [
    "ooh we got it - it's the 1st element (counting from 0)"
   ]
  },
  {
   "cell_type": "markdown",
   "metadata": {},
   "source": [
    "### (d) 🚜 Let's mine the data and frame it!"
   ]
  },
  {
   "cell_type": "code",
   "execution_count": 11,
   "metadata": {},
   "outputs": [
    {
     "name": "stdout",
     "output_type": "stream",
     "text": [
      "✨ Here's a truncated version of our data\n",
      "  Rank                  NOC  Gold  Silver  Bronze  Total\n",
      "0    1  United States (USA)    46      37      38    121\n",
      "1    2  Great Britain (GBR)    27      23      17     67\n",
      "2    3          China (CHN)    26      18      26     70\n",
      "3    4         Russia (RUS)    19      17      20     56\n",
      "4    5        Germany (GER)    17      10      15     42\n"
     ]
    }
   ],
   "source": [
    "summer_olympics_medals_2016_table = scraped_html[1]\n",
    "summer_olympics_medals_2016 = pd.DataFrame(summer_olympics_medals_2016_table)\n",
    "\n",
    "print(\"✨ Here's a truncated version of our data\")\n",
    "print(summer_olympics_medals_2016.head())"
   ]
  },
  {
   "cell_type": "markdown",
   "metadata": {},
   "source": [
    "### (e) 🏅Finally, let's grab the top 20 countries"
   ]
  },
  {
   "cell_type": "code",
   "execution_count": 14,
   "metadata": {},
   "outputs": [
    {
     "name": "stdout",
     "output_type": "stream",
     "text": [
      "✨ The top 20 countries (by total medals) at the 2016 Summer Olympics were :\n",
      "                Rank                  NOC  Gold  Silver  Bronze  Total\n",
      "86  Totals (86 NOCs)     Totals (86 NOCs)   307     307     359    973\n",
      "0                  1  United States (USA)    46      37      38    121\n",
      "2                  3          China (CHN)    26      18      26     70\n",
      "1                  2  Great Britain (GBR)    27      23      17     67\n",
      "3                  4         Russia (RUS)    19      17      20     56\n",
      "4                  5        Germany (GER)    17      10      15     42\n",
      "6                  7         France (FRA)    10      18      14     42\n",
      "5                  6          Japan (JPN)    12       8      21     41\n",
      "9                 10      Australia (AUS)     8      11      10     29\n",
      "8                  9          Italy (ITA)     8      12       8     28\n",
      "19                20         Canada (CAN)     4       3      15     22\n",
      "7                  8    South Korea (KOR)     9       3       9     21\n",
      "10                11    Netherlands (NED)     8       7       4     19\n",
      "12                13        Brazil (BRA)*     7       6       6     19\n",
      "18                19    New Zealand (NZL)     4       9       5     18\n",
      "21                22     Kazakhstan (KAZ)     3       5      10     18\n",
      "38                39     Azerbaijan (AZE)     1       7      10     18\n",
      "13                14          Spain (ESP)     7       4       6     17\n",
      "11                12        Hungary (HUN)     8       3       4     15\n",
      "27                28        Denmark (DEN)     2       6       7     15\n"
     ]
    }
   ],
   "source": [
    "top_20_countries = pd.DataFrame(summer_olympics_medals_2016.nlargest(20, \"Total\"))\n",
    "print(\"✨ The top 20 countries (by total medals) at the 2016 Summer Olympics were :\")\n",
    "print(top_20_countries)"
   ]
  }
 ],
 "metadata": {
  "kernelspec": {
   "display_name": "Python 3",
   "language": "python",
   "name": "python3"
  },
  "language_info": {
   "codemirror_mode": {
    "name": "ipython",
    "version": 3
   },
   "file_extension": ".py",
   "mimetype": "text/x-python",
   "name": "python",
   "nbconvert_exporter": "python",
   "pygments_lexer": "ipython3",
   "version": "3.8.5"
  }
 },
 "nbformat": 4,
 "nbformat_minor": 2
}

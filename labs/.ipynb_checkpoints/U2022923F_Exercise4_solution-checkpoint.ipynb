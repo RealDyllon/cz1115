{
 "cells": [
  {
   "cell_type": "markdown",
   "metadata": {},
   "source": [
    "# Exercise 4: Linear Regression"
   ]
  },
  {
   "cell_type": "code",
   "execution_count": 1,
   "metadata": {},
   "outputs": [
    {
     "name": "stdout",
     "output_type": "stream",
     "text": [
      "/Users/dyllon/.pyenv/versions/3.9.1/bin/python\n",
      "/Users/dyllon/.pyenv/versions/3.9.1/bin/pip\n",
      "Requirement already satisfied: numpy in /Users/dyllon/.pyenv/versions/3.9.1/lib/python3.9/site-packages (1.20.0)\n",
      "Requirement already satisfied: pandas in /Users/dyllon/.pyenv/versions/3.9.1/lib/python3.9/site-packages (1.2.1)\n",
      "Requirement already satisfied: numpy>=1.16.5 in /Users/dyllon/.pyenv/versions/3.9.1/lib/python3.9/site-packages (from pandas) (1.20.0)\n",
      "Requirement already satisfied: python-dateutil>=2.7.3 in /Users/dyllon/.pyenv/versions/3.9.1/lib/python3.9/site-packages (from pandas) (2.8.1)\n",
      "Requirement already satisfied: pytz>=2017.3 in /Users/dyllon/.pyenv/versions/3.9.1/lib/python3.9/site-packages (from pandas) (2021.1)\n",
      "Requirement already satisfied: six>=1.5 in /Users/dyllon/.pyenv/versions/3.9.1/lib/python3.9/site-packages (from python-dateutil>=2.7.3->pandas) (1.15.0)\n",
      "Requirement already satisfied: seaborn in /Users/dyllon/.pyenv/versions/3.9.1/lib/python3.9/site-packages (0.11.1)\n",
      "Requirement already satisfied: scipy>=1.0 in /Users/dyllon/.pyenv/versions/3.9.1/lib/python3.9/site-packages (from seaborn) (1.6.0)\n",
      "Requirement already satisfied: matplotlib>=2.2 in /Users/dyllon/.pyenv/versions/3.9.1/lib/python3.9/site-packages (from seaborn) (3.3.4)\n",
      "Requirement already satisfied: numpy>=1.15 in /Users/dyllon/.pyenv/versions/3.9.1/lib/python3.9/site-packages (from seaborn) (1.20.0)\n",
      "Requirement already satisfied: pandas>=0.23 in /Users/dyllon/.pyenv/versions/3.9.1/lib/python3.9/site-packages (from seaborn) (1.2.1)\n",
      "Requirement already satisfied: cycler>=0.10 in /Users/dyllon/.pyenv/versions/3.9.1/lib/python3.9/site-packages (from matplotlib>=2.2->seaborn) (0.10.0)\n",
      "Requirement already satisfied: pillow>=6.2.0 in /Users/dyllon/.pyenv/versions/3.9.1/lib/python3.9/site-packages (from matplotlib>=2.2->seaborn) (8.1.0)\n",
      "Requirement already satisfied: python-dateutil>=2.1 in /Users/dyllon/.pyenv/versions/3.9.1/lib/python3.9/site-packages (from matplotlib>=2.2->seaborn) (2.8.1)\n",
      "Requirement already satisfied: kiwisolver>=1.0.1 in /Users/dyllon/.pyenv/versions/3.9.1/lib/python3.9/site-packages (from matplotlib>=2.2->seaborn) (1.3.1)\n",
      "Requirement already satisfied: pyparsing!=2.0.4,!=2.1.2,!=2.1.6,>=2.0.3 in /Users/dyllon/.pyenv/versions/3.9.1/lib/python3.9/site-packages (from matplotlib>=2.2->seaborn) (2.4.7)\n",
      "Requirement already satisfied: six in /Users/dyllon/.pyenv/versions/3.9.1/lib/python3.9/site-packages (from cycler>=0.10->matplotlib>=2.2->seaborn) (1.15.0)\n",
      "Requirement already satisfied: pytz>=2017.3 in /Users/dyllon/.pyenv/versions/3.9.1/lib/python3.9/site-packages (from pandas>=0.23->seaborn) (2021.1)\n",
      "Requirement already satisfied: matplotlib in /Users/dyllon/.pyenv/versions/3.9.1/lib/python3.9/site-packages (3.3.4)\n",
      "Requirement already satisfied: numpy>=1.15 in /Users/dyllon/.pyenv/versions/3.9.1/lib/python3.9/site-packages (from matplotlib) (1.20.0)\n",
      "Requirement already satisfied: pyparsing!=2.0.4,!=2.1.2,!=2.1.6,>=2.0.3 in /Users/dyllon/.pyenv/versions/3.9.1/lib/python3.9/site-packages (from matplotlib) (2.4.7)\n",
      "Requirement already satisfied: kiwisolver>=1.0.1 in /Users/dyllon/.pyenv/versions/3.9.1/lib/python3.9/site-packages (from matplotlib) (1.3.1)\n",
      "Requirement already satisfied: cycler>=0.10 in /Users/dyllon/.pyenv/versions/3.9.1/lib/python3.9/site-packages (from matplotlib) (0.10.0)\n",
      "Requirement already satisfied: python-dateutil>=2.1 in /Users/dyllon/.pyenv/versions/3.9.1/lib/python3.9/site-packages (from matplotlib) (2.8.1)\n",
      "Requirement already satisfied: pillow>=6.2.0 in /Users/dyllon/.pyenv/versions/3.9.1/lib/python3.9/site-packages (from matplotlib) (8.1.0)\n",
      "Requirement already satisfied: six in /Users/dyllon/.pyenv/versions/3.9.1/lib/python3.9/site-packages (from cycler>=0.10->matplotlib) (1.15.0)\n",
      "Requirement already satisfied: sklearn in /Users/dyllon/.pyenv/versions/3.9.1/lib/python3.9/site-packages (0.0)\n",
      "Requirement already satisfied: scikit-learn in /Users/dyllon/.pyenv/versions/3.9.1/lib/python3.9/site-packages (from sklearn) (0.24.1)\n",
      "Requirement already satisfied: joblib>=0.11 in /Users/dyllon/.pyenv/versions/3.9.1/lib/python3.9/site-packages (from scikit-learn->sklearn) (1.0.0)\n",
      "Requirement already satisfied: scipy>=0.19.1 in /Users/dyllon/.pyenv/versions/3.9.1/lib/python3.9/site-packages (from scikit-learn->sklearn) (1.6.0)\n",
      "Requirement already satisfied: numpy>=1.13.3 in /Users/dyllon/.pyenv/versions/3.9.1/lib/python3.9/site-packages (from scikit-learn->sklearn) (1.20.0)\n",
      "Requirement already satisfied: threadpoolctl>=2.0.0 in /Users/dyllon/.pyenv/versions/3.9.1/lib/python3.9/site-packages (from scikit-learn->sklearn) (2.1.0)\n"
     ]
    },
    {
     "ename": "ModuleNotFoundError",
     "evalue": "No module named 'numpy'",
     "output_type": "error",
     "traceback": [
      "\u001b[0;31m---------------------------------------------------------------------------\u001b[0m",
      "\u001b[0;31mModuleNotFoundError\u001b[0m                       Traceback (most recent call last)",
      "\u001b[0;32m<ipython-input-1-768c16e5599a>\u001b[0m in \u001b[0;36m<module>\u001b[0;34m\u001b[0m\n\u001b[1;32m     10\u001b[0m \u001b[0;34m\u001b[0m\u001b[0m\n\u001b[1;32m     11\u001b[0m \u001b[0;34m\u001b[0m\u001b[0m\n\u001b[0;32m---> 12\u001b[0;31m \u001b[0;32mimport\u001b[0m \u001b[0mnumpy\u001b[0m \u001b[0;32mas\u001b[0m \u001b[0mnp\u001b[0m\u001b[0;34m\u001b[0m\u001b[0;34m\u001b[0m\u001b[0m\n\u001b[0m\u001b[1;32m     13\u001b[0m \u001b[0;32mimport\u001b[0m \u001b[0mpandas\u001b[0m \u001b[0;32mas\u001b[0m \u001b[0mpd\u001b[0m\u001b[0;34m\u001b[0m\u001b[0;34m\u001b[0m\u001b[0m\n\u001b[1;32m     14\u001b[0m \u001b[0;32mimport\u001b[0m \u001b[0mseaborn\u001b[0m \u001b[0;32mas\u001b[0m \u001b[0msb\u001b[0m\u001b[0;34m\u001b[0m\u001b[0;34m\u001b[0m\u001b[0m\n",
      "\u001b[0;31mModuleNotFoundError\u001b[0m: No module named 'numpy'"
     ]
    }
   ],
   "source": [
    "# import standard libs\n",
    "!which python\n",
    "!which pip\n",
    "\n",
    "!pip3 install numpy\n",
    "!pip3 install pandas\n",
    "!pip3 install seaborn\n",
    "!pip3 install matplotlib\n",
    "!pip3 install sklearn\n",
    "\n",
    "\n",
    "import numpy as np\n",
    "import pandas as pd\n",
    "import seaborn as sb\n",
    "import matplotlib.pyplot as plt # we only need pyplot\n",
    "sb.set() # set the default Seaborn style for graphics"
   ]
  },
  {
   "cell_type": "markdown",
   "metadata": {},
   "source": [
    "## Problem 1: Predicting SalePrice using GrLivArea\n",
    "Import the complete dataset “train.csv” in Jupyter : houseData = pd.read_csv('train.csv')\n",
    "Use the following Numeric variables from the dataset in this problem : GrLivArea and SalePrice"
   ]
  },
  {
   "cell_type": "code",
   "execution_count": null,
   "metadata": {},
   "outputs": [],
   "source": [
    "# import the data set\n",
    "houseData = pd.read_csv('./train.csv')\n",
    "houseData.head()"
   ]
  },
  {
   "cell_type": "markdown",
   "metadata": {},
   "source": [
    "### a) Plot SalePrice against GrLivArea using any appropriate bivariate plot to note the strong linear relationship."
   ]
  },
  {
   "cell_type": "code",
   "execution_count": null,
   "metadata": {},
   "outputs": [],
   "source": [
    "plot_data = pd.DataFrame(houseData)[['GrLivArea', 'SalePrice']]\n",
    "plot_data.head()\n",
    "\n",
    "# draw the plot\n",
    "sb.pairplot(data = plot_data)\n",
    "\n",
    "# todo: select a better plot type and params"
   ]
  },
  {
   "cell_type": "markdown",
   "metadata": {},
   "source": [
    "### b) Print the correlation coefficient between these two variables to get a numerical evidence of the relationship."
   ]
  },
  {
   "cell_type": "code",
   "execution_count": null,
   "metadata": {},
   "outputs": [],
   "source": [
    "plot_data.corr() "
   ]
  },
  {
   "cell_type": "markdown",
   "metadata": {},
   "source": [
    "### c) Import Linear Regression model from Scikit-Learn"
   ]
  },
  {
   "cell_type": "code",
   "execution_count": null,
   "metadata": {},
   "outputs": [],
   "source": [
    "from sklearn.linear_model import LinearRegression"
   ]
  },
  {
   "cell_type": "markdown",
   "metadata": {},
   "source": [
    "### d) Partition the dataset houseData into two “random” portions : Train Data (1100 rows) and Test Data (360 rows)."
   ]
  },
  {
   "cell_type": "code",
   "execution_count": null,
   "metadata": {},
   "outputs": [],
   "source": [
    "train_data = houseData[:1100] # first  1100 rows\n",
    "test_data = houseData[-360:] # last 360 rows"
   ]
  },
  {
   "cell_type": "markdown",
   "metadata": {},
   "source": [
    "### e) Training : Fit a Linear Regression model on the Train Dataset to predict or estimate SalePrice using GrLivArea."
   ]
  },
  {
   "cell_type": "code",
   "execution_count": null,
   "metadata": {},
   "outputs": [],
   "source": [
    "grLivArea_train = pd.DataFrame(train_data['GrLivArea'])\n",
    "salePrice_train = pd.DataFrame(train_data['SalePrice'])\n",
    "\n",
    "# Create a Linear Regression object\n",
    "linreg = LinearRegression()\n",
    "\n",
    "# Train the Linear Regression model\n",
    "linreg.fit(grLivArea_train, salePrice_train)\n",
    "\n",
    "print(\"lin reg model has been trained!\")"
   ]
  },
  {
   "cell_type": "markdown",
   "metadata": {},
   "source": [
    "### f) Print the coefficients of the Linear Regression model you just fit, and plot the regression line on a scatterplot."
   ]
  },
  {
   "cell_type": "code",
   "execution_count": null,
   "metadata": {},
   "outputs": [],
   "source": [
    "# Coefficients of the Linear Regression line\n",
    "print('Intercept \\t: b = ', linreg.intercept_)\n",
    "print('Coefficients \\t: a = ', linreg.coef_)\n",
    "\n",
    "# Formula for the Regression line\n",
    "regline_x = grLivArea_train\n",
    "regline_y = linreg.intercept_ + linreg.coef_ * grLivArea_train\n",
    "\n",
    "# Plot the Linear Regression line\n",
    "f = plt.figure(figsize=(16, 8))\n",
    "plt.scatter(grLivArea_train, salePrice_train)\n",
    "plt.plot(regline_x, regline_y, 'r-', linewidth = 3)\n",
    "plt.show()"
   ]
  },
  {
   "cell_type": "code",
   "execution_count": null,
   "metadata": {},
   "outputs": [],
   "source": [
    "# Predict Total values corresponding to HP Train\n",
    "salePrice_train_pred = linreg.predict(grLivArea_train)\n",
    "\n",
    "# Plot the Linear Regression line\n",
    "f = plt.figure(figsize=(16, 8))\n",
    "plt.scatter(grLivArea_train, salePrice_train)\n",
    "plt.scatter(grLivArea_train, salePrice_train_pred, color = \"r\")\n",
    "plt.show()"
   ]
  },
  {
   "cell_type": "markdown",
   "metadata": {},
   "source": [
    "### g) Print Explained Variance (R^2) and Mean Squared Error (MSE) on Train Data to check Goodness of Fit of mode"
   ]
  },
  {
   "cell_type": "code",
   "execution_count": null,
   "metadata": {},
   "outputs": [],
   "source": [
    "from sklearn.metrics import mean_squared_error\n",
    "\n",
    "# Check the Goodness of Fit (on Train Data)\n",
    "print(\"Goodness of Fit of Model \\tTrain Dataset\")\n",
    "print(\"Explained Variance (R^2) \\t:\", linreg.score(grLivArea_train, salePrice_train))\n",
    "print(\"Mean Squared Error (MSE) \\t:\", mean_squared_error(salePrice_train, salePrice_train_pred))\n",
    "print()\n"
   ]
  },
  {
   "cell_type": "markdown",
   "metadata": {},
   "source": [
    "### h) Predict SalePrice in case of Test Data using the Linear Regression model and the predictor variable GrLivArea."
   ]
  },
  {
   "cell_type": "code",
   "execution_count": null,
   "metadata": {},
   "outputs": [],
   "source": [
    "# define our test columns\n",
    "grLivArea_test = pd.DataFrame(train_data['GrLivArea'])\n",
    "salePrice_test = pd.DataFrame(train_data['SalePrice'])\n"
   ]
  },
  {
   "cell_type": "code",
   "execution_count": null,
   "metadata": {},
   "outputs": [],
   "source": [
    "# Predict Total values corresponding to HP Test\n",
    "salePrice_test_pred = linreg.predict(grLivArea_test)\n",
    "\n"
   ]
  },
  {
   "cell_type": "markdown",
   "metadata": {},
   "source": [
    "### i) Plot the predictions on a Scatterplot of GrLivArea and SalePrice in the Test Data to visualize model accuracy"
   ]
  },
  {
   "cell_type": "code",
   "execution_count": null,
   "metadata": {},
   "outputs": [],
   "source": [
    "# Plot the Predictions\n",
    "f = plt.figure(figsize=(16, 8))\n",
    "plt.scatter(grLivArea_test, salePrice_test, color = \"green\")\n",
    "plt.scatter(grLivArea_test, salePrice_test_pred, color = \"red\")\n",
    "plt.show()"
   ]
  },
  {
   "cell_type": "markdown",
   "metadata": {},
   "source": [
    "### j) Print the Mean Squared Error (MSE) on Test Data to check Goodness of Fit of model, compared to the Training"
   ]
  },
  {
   "cell_type": "code",
   "execution_count": null,
   "metadata": {},
   "outputs": [],
   "source": [
    "from sklearn.metrics import mean_squared_error\n",
    "\n",
    "# Check the Goodness of Fit (on Test Data)\n",
    "print(\"Goodness of Fit of Model \\tTest Dataset\")\n",
    "print(\"Explained Variance (R^2) \\t:\", linreg.score(grLivArea_test, salePrice_test))\n",
    "print(\"Mean Squared Error (MSE) \\t:\", mean_squared_error(salePrice_test, salePrice_test_pred))\n",
    "print()"
   ]
  },
  {
   "cell_type": "markdown",
   "metadata": {},
   "source": [
    "## Problem 2\n",
    "Perform all the above steps on “SalePrice” against each of the variables “LotArea”, “TotalBsmtSF”, “GarageArea” oneby-one to perform individual Linear Regressions and obtain individual univariate Linear Regression Models in each case."
   ]
  },
  {
   "cell_type": "code",
   "execution_count": null,
   "metadata": {},
   "outputs": [],
   "source": [
    "# using a loop to do the repetitive stuff"
   ]
  },
  {
   "cell_type": "code",
   "execution_count": null,
   "metadata": {},
   "outputs": [],
   "source": [
    "selected_x_vars = pd.DataFrame(houseData[['LotArea', 'TotalBsmtSF', 'GarageArea']])\n",
    "selected_x_vars.describe()\n",
    "    "
   ]
  },
  {
   "cell_type": "code",
   "execution_count": null,
   "metadata": {},
   "outputs": [],
   "source": [
    "# i can't break this into smaller code blocks because of python requires \n",
    "# indentation (semi-colon terminated languages are far better than tab-concious \n",
    "# languages)\n",
    "\n",
    "for column_name in selected_x_vars: \n",
    "    # print(column_name)\n",
    "    column_data = pd.DataFrame(houseData[column_name])\n",
    "    \n",
    "    # (a) Plot SalePrice against <column> using any appropriate bivariate plot\n",
    "    #     to note the strong linear relationship\n",
    "    \n",
    "    \n",
    "    \n",
    "    \n",
    "    # (b) Print the correlation coefficient between these two variables to get \n",
    "    #     a numerical evidence of the relationship\n",
    "    \n",
    "    # (c) Import Linear Regression model from Scikit-Learn : \n",
    "    \n",
    "    from sklearn.linear_model import LinearRegression\n",
    "    \n",
    "    # (d) Partition the dataset houseData into two “random” portions : Train \n",
    "    #     Data (1100 rows) and Test Data (360 rows).\n",
    "    \n",
    "    # (e) Training : Fit a Linear Regression model on the Train Dataset to \n",
    "    #     predict or estimate SalePrice using <column>.\n",
    "    \n",
    "    # (f) Print the coefficients of the Linear Regression model you just fit, \n",
    "    #     and plot the regression line on a scatterplot\n",
    "    \n",
    "    # (g) Print Explained Variance (R^2) and Mean Squared Error (MSE) on Train \n",
    "    #     Data to check Goodness of Fit of model.\n",
    "    \n",
    "    # (h) Predict SalePrice in case of Test Data using the Linear Regression \n",
    "    #     model and the predictor variable GrLivArea.\n",
    "    \n",
    "    # (i) Plot the predictions on a Scatterplot of <column> and SalePrice in \n",
    "    #     the Test Data to visualize model accuracy.\n",
    "    \n",
    "    # (j) Print the Mean Squared Error (MSE) on Test Data to check Goodness of \n",
    "    #     Fit of model, compared to the Training\n",
    "    "
   ]
  },
  {
   "cell_type": "markdown",
   "metadata": {},
   "source": [
    "## Problem 3\n",
    "Compare and contrast the four models in terms of Explained Variance (R^2) and Mean Squared Error (MSE) on Train Data,\n",
    "the accuracy of prediction on Test Data, and comment on which model you think is the best to predict “SalePrice”."
   ]
  },
  {
   "cell_type": "markdown",
   "metadata": {},
   "source": [
    "## Bonus Problem"
   ]
  },
  {
   "cell_type": "code",
   "execution_count": null,
   "metadata": {},
   "outputs": [],
   "source": []
  }
 ],
 "metadata": {
  "kernelspec": {
   "display_name": "Python 3",
   "language": "python",
   "name": "python3"
  },
  "language_info": {
   "codemirror_mode": {
    "name": "ipython",
    "version": 3
   },
   "file_extension": ".py",
   "mimetype": "text/x-python",
   "name": "python",
   "nbconvert_exporter": "python",
   "pygments_lexer": "ipython3",
   "version": "3.9.1"
  }
 },
 "nbformat": 4,
 "nbformat_minor": 4
}
